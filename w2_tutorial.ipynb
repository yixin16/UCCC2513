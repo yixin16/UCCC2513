{
 "cells": [
  {
   "cell_type": "markdown",
   "id": "3ee3102d",
   "metadata": {},
   "source": [
    "# Tutorial week 2\n",
    "\n",
    "Learning outcomes:\n",
    "1. Python fundamentals\n",
    "    * Basic syntax\n",
    "    * Data types\n",
    "    * Data structures\n",
    "    * Custom function\n",
    "    * `Numpy` and `matplotlib` modules\n",
    "3. Familiar with the creation of custom images."
   ]
  },
  {
   "cell_type": "markdown",
   "id": "1a5d8775",
   "metadata": {},
   "source": [
    "## Python fundamentals\n",
    "\n",
    "### Basic syntax"
   ]
  },
  {
   "cell_type": "code",
   "execution_count": 1,
   "id": "dc6957b6",
   "metadata": {},
   "outputs": [
    {
     "name": "stdout",
     "output_type": "stream",
     "text": [
      "Hello World!\n"
     ]
    }
   ],
   "source": [
    "print(\"Hello World!\")\n",
    "# You can comment in codeblock using # at the front"
   ]
  },
  {
   "cell_type": "markdown",
   "id": "0149748a-0683-447b-9691-3f23b9ea8254",
   "metadata": {},
   "source": [
    "### Data types\n",
    "* floating point numbers, e.g. `float32` and `float64`.\n",
    "* complex number\n",
    "* string\n",
    "* integer\n",
    "\n",
    "| Data type | Range |\n",
    "| --------- | ----- |\n",
    "| uint8     | 0 to 255 |\n",
    "| uint16    | 0 to 65535 |\n",
    "| uint32    | 0 to $2^{32}-1$ |\n",
    "| int8      | -128 to 127 |\n",
    "| int16     | -32768 to 32767 |\n",
    "| int32     | $-2^{31}$ to $2^{31}-1$ |"
   ]
  },
  {
   "cell_type": "code",
   "execution_count": 2,
   "id": "aa85bb5f",
   "metadata": {},
   "outputs": [
    {
     "name": "stdout",
     "output_type": "stream",
     "text": [
      "<class 'int'>\n",
      "<class 'float'>\n",
      "<class 'complex'>\n",
      "<class 'str'>\n",
      "<class 'bool'>\n"
     ]
    }
   ],
   "source": [
    "x = 5\n",
    "y = 7.1\n",
    "z = 1j\n",
    "z1 = \"I am human\"\n",
    "\n",
    "print(type(x))\n",
    "print(type(y))\n",
    "print(type(z))\n",
    "print(type(z1))\n",
    "print(type(True))"
   ]
  },
  {
   "cell_type": "code",
   "execution_count": 3,
   "id": "4314cd73",
   "metadata": {},
   "outputs": [
    {
     "name": "stdout",
     "output_type": "stream",
     "text": [
      "0\n",
      "7.6\n"
     ]
    }
   ],
   "source": [
    "# We can do casting, specify the data type by these syntax, float(), int() and str()\n",
    "y = 8 / 10\n",
    "z = \"7.6\"\n",
    "# change the data types\n",
    "print(int(y))\n",
    "print(float(z))"
   ]
  },
  {
   "cell_type": "markdown",
   "id": "deeaf4ef",
   "metadata": {},
   "source": [
    "### Data structures (native to Python)\n",
    "\n",
    "#### List and tuple (Sequence)\n",
    "List and tuple are both variables that can store multiple items. The major differences between the 2 are:\n",
    "* Elements in list is enclosed with square brackets, while tuple is written with parentheses.\n",
    "* List is changeable, while tuple is unchangeable."
   ]
  },
  {
   "cell_type": "code",
   "execution_count": 4,
   "id": "80e9c28a",
   "metadata": {},
   "outputs": [
    {
     "name": "stdout",
     "output_type": "stream",
     "text": [
      "['a', 'b', 'c']\n",
      "('a', 'b', 'c')\n"
     ]
    }
   ],
   "source": [
    "mylist = [\"a\", \"b\", \"c\"]\n",
    "print(mylist)\n",
    "\n",
    "mytuple = (\"a\", \"b\", \"c\")\n",
    "print(mytuple)"
   ]
  },
  {
   "cell_type": "code",
   "execution_count": 5,
   "id": "cb5d9b42",
   "metadata": {},
   "outputs": [
    {
     "name": "stdout",
     "output_type": "stream",
     "text": [
      "[1, 'b', 'c']\n"
     ]
    }
   ],
   "source": [
    "mylist[0] = 1\n",
    "print(mylist)"
   ]
  },
  {
   "cell_type": "code",
   "execution_count": 7,
   "id": "8cf0341f",
   "metadata": {},
   "outputs": [
    {
     "name": "stdout",
     "output_type": "stream",
     "text": [
      "'tuple' object does not support item assignment\n",
      "Tuple is immutable\n"
     ]
    }
   ],
   "source": [
    "try:\n",
    "    mytuple[0] = 1\n",
    "except Exception as e:\n",
    "    print(e)\n",
    "    print(\"Tuple is immutable\")"
   ]
  },
  {
   "cell_type": "markdown",
   "id": "d7929cf7-c996-48ed-ad7b-04392cc27566",
   "metadata": {},
   "source": [
    "### Dictionary (Mapping)\n",
    "Dictionary are used to stire data values in key:value pairs. "
   ]
  },
  {
   "cell_type": "code",
   "execution_count": 9,
   "id": "a7565846-3e7d-47ef-89db-7c11f3b895b8",
   "metadata": {},
   "outputs": [
    {
     "name": "stdout",
     "output_type": "stream",
     "text": [
      "{'brand': 'Proton', 'model': 'Saga', 'year': 2022}\n"
     ]
    }
   ],
   "source": [
    "car = {\n",
    "    \"brand\": \"Proton\",\n",
    "    \"model\": \"Saga\",\n",
    "    \"year\": 2022\n",
    "}\n",
    "print(car)"
   ]
  },
  {
   "cell_type": "code",
   "execution_count": 13,
   "id": "06ef6eeb-2335-485d-9d40-3f4ea728955a",
   "metadata": {
    "scrolled": true
   },
   "outputs": [
    {
     "name": "stdout",
     "output_type": "stream",
     "text": [
      "2022\n",
      "Persona\n"
     ]
    },
    {
     "data": {
      "text/plain": [
       "'no key'"
      ]
     },
     "execution_count": 13,
     "metadata": {},
     "output_type": "execute_result"
    }
   ],
   "source": [
    "# access values in dictionary\n",
    "print(car[\"year\"])\n",
    "print(car.get(\"model\"))\n",
    "car.get(\"Manufacturer\", \"no key\")"
   ]
  },
  {
   "cell_type": "code",
   "execution_count": 14,
   "id": "e5680994-f5cb-4052-bbc8-a23d8c00057d",
   "metadata": {},
   "outputs": [
    {
     "name": "stdout",
     "output_type": "stream",
     "text": [
      "dict_keys(['brand', 'model', 'year'])\n",
      "dict_values(['Proton', 'Persona', 2022])\n",
      "dict_items([('brand', 'Proton'), ('model', 'Persona'), ('year', 2022)])\n"
     ]
    }
   ],
   "source": [
    "# keys, values and items\n",
    "print(car.keys())\n",
    "print(car.values())\n",
    "print(car.items())"
   ]
  },
  {
   "cell_type": "code",
   "execution_count": 15,
   "id": "fe99e003-d9f5-4e2a-82ef-9935709e6a76",
   "metadata": {},
   "outputs": [
    {
     "name": "stdout",
     "output_type": "stream",
     "text": [
      "Persona\n"
     ]
    }
   ],
   "source": [
    "# change the values of key\n",
    "car[\"model\"] = \"Persona\"\n",
    "print(car.get(\"model\"))"
   ]
  },
  {
   "cell_type": "markdown",
   "id": "286755cb-9aca-4570-a07e-b058711e8a4a",
   "metadata": {},
   "source": [
    "## Exercise"
   ]
  },
  {
   "cell_type": "code",
   "execution_count": 20,
   "id": "fbb19b55-0c9f-4ec6-92ec-4eda83061855",
   "metadata": {},
   "outputs": [
    {
     "data": {
      "text/plain": [
       "[1, 4, 9, 16, 25, 36, 49, 64, 81, 100]"
      ]
     },
     "execution_count": 20,
     "metadata": {},
     "output_type": "execute_result"
    }
   ],
   "source": [
    "# Create a list of square number from 1^2 to 10^2\n",
    "squared_list = []\n",
    "for i in range(1, 11):\n",
    "    squared_list.append(i * i)\n",
    "squared_list"
   ]
  },
  {
   "cell_type": "code",
   "execution_count": 21,
   "id": "ea48660c-e18b-4940-8ef6-9059ba18ee56",
   "metadata": {},
   "outputs": [
    {
     "data": {
      "text/plain": [
       "[1, 4, 9, 16, 25, 36, 49, 64, 81, 100]"
      ]
     },
     "execution_count": 21,
     "metadata": {},
     "output_type": "execute_result"
    }
   ],
   "source": [
    "# Create a list of square number from 1^2 to 10^2\n",
    "squared_list = [i * i for i in range(1, 11)]\n",
    "squared_list"
   ]
  },
  {
   "cell_type": "code",
   "execution_count": 24,
   "id": "16e052de-12fc-4d59-81fb-900c2c86941a",
   "metadata": {},
   "outputs": [
    {
     "data": {
      "text/plain": [
       "{'bread': 4.2, 'milk': 5.2, 'vegetable': 8.5, 'fish': 28.6}"
      ]
     },
     "execution_count": 24,
     "metadata": {},
     "output_type": "execute_result"
    }
   ],
   "source": [
    "# Create a dic with keys as grocer and value as prices as shown below.\n",
    "grocer = ['bread', 'milk', 'bread', 'vegetable', 'fish']\n",
    "prices = [4., 5.2, 4.2, 8.5, 28.6]\n",
    "\n",
    "grocer_prices = {}\n",
    "for k, v in zip(grocer, prices):\n",
    "    grocer_prices[k] = v\n",
    "grocer_prices"
   ]
  },
  {
   "cell_type": "markdown",
   "id": "529a1202-c333-4c22-83df-b729a5f5dc74",
   "metadata": {},
   "source": [
    "# Custom function"
   ]
  },
  {
   "cell_type": "code",
   "execution_count": 29,
   "id": "6b66126b-5eb2-45cf-8991-5e01d43ec5e9",
   "metadata": {},
   "outputs": [
    {
     "name": "stdout",
     "output_type": "stream",
     "text": [
      "10 is an even integer.\n"
     ]
    }
   ],
   "source": [
    "def odd_even(x):\n",
    "    \"\"\"Check whether x is an odd or even integer.\n",
    "    Argument: \n",
    "    ---\n",
    "    x: must be an integer\n",
    "\n",
    "    Returns:\n",
    "    ---\n",
    "    statement that states whether x is an odd or even integers\"\"\"\n",
    "    if isinstance(x, int):\n",
    "        if(x % 2 == 0) and (x != 0):\n",
    "            print(f'{x} is an even integer.')\n",
    "        elif x % 2 == 1:\n",
    "            print(f'{x} is an odd integer.')\n",
    "        elif x == 0:\n",
    "            print(f'{x} is neither odd or even.')\n",
    "    else:\n",
    "        print(f'{x} is not an integer.')\n",
    "\n",
    "odd_even(10)"
   ]
  },
  {
   "cell_type": "code",
   "execution_count": 30,
   "id": "ee0a3e44-4ea4-4ee4-81d8-930e7159510d",
   "metadata": {},
   "outputs": [],
   "source": [
    "def simple_add(x, y):\n",
    "    # It is a good practice to include docstring\n",
    "    \"\"\"Function to add 2 numbers:\n",
    "    Parameters:\n",
    "    x & y: must be numbers\n",
    "    \n",
    "    Returns:\n",
    "    result of addition\"\"\"\n",
    "    return (x + y)"
   ]
  },
  {
   "cell_type": "code",
   "execution_count": 31,
   "id": "0bbd7fe1-336e-4f0a-9a17-643d991c5530",
   "metadata": {},
   "outputs": [
    {
     "data": {
      "text/plain": [
       "12"
      ]
     },
     "execution_count": 31,
     "metadata": {},
     "output_type": "execute_result"
    }
   ],
   "source": [
    "simple_add(2, 10)"
   ]
  },
  {
   "cell_type": "markdown",
   "id": "f7b77111-f01e-4bfb-94b9-204c05f9b987",
   "metadata": {},
   "source": [
    "But the above function is not robust, since it will invoke error if user provide non-numeric arguments."
   ]
  },
  {
   "cell_type": "code",
   "execution_count": 32,
   "id": "8e82dadc-8512-4988-a3ff-8cdea0ea7560",
   "metadata": {},
   "outputs": [],
   "source": [
    "import numbers\n",
    "\n",
    "def simple_add(x, y):\n",
    "    \"\"\"Function to add 2 numbers:\n",
    "    Parameters:\n",
    "    x & y: must be numbers\n",
    "    \n",
    "    Returns:\n",
    "    result of addition\"\"\"\n",
    "\n",
    "    if isinstance(x, numbers.Number) and isinstance(y, numbers.Number):\n",
    "        return x + y\n",
    "    else:\n",
    "        print(\"Invalid input argument\")"
   ]
  },
  {
   "cell_type": "code",
   "execution_count": 33,
   "id": "43ceea52-a888-413b-8d83-253123f10bb2",
   "metadata": {},
   "outputs": [
    {
     "data": {
      "text/plain": [
       "10"
      ]
     },
     "execution_count": 33,
     "metadata": {},
     "output_type": "execute_result"
    }
   ],
   "source": [
    "simple_add(20, -10)"
   ]
  },
  {
   "cell_type": "code",
   "execution_count": 34,
   "id": "b424b728-dd0a-4b8b-9bec-ceb3b6606794",
   "metadata": {},
   "outputs": [
    {
     "name": "stdout",
     "output_type": "stream",
     "text": [
      "Invalid input argument\n"
     ]
    }
   ],
   "source": [
    "simple_add(7, \"a\")"
   ]
  },
  {
   "cell_type": "markdown",
   "id": "9a7e8bb6-0e23-4398-bd2f-40754414cb02",
   "metadata": {},
   "source": [
    "Another way to control Exception: use `try` and `except` blocks"
   ]
  },
  {
   "cell_type": "code",
   "execution_count": 35,
   "id": "67967ecb-55d3-43d1-abfd-6e510a30577f",
   "metadata": {},
   "outputs": [],
   "source": [
    "def simple_add(x, y):\n",
    "    \"\"\"Function to add 2 numbers:\n",
    "    Parameters:\n",
    "    x & y: must be numbers\n",
    "    \n",
    "    Returns:\n",
    "    result of addition\"\"\"\n",
    "    try:\n",
    "        return x + y\n",
    "    except Exception as e:\n",
    "        print(e)"
   ]
  },
  {
   "cell_type": "code",
   "execution_count": 36,
   "id": "525aac03-9071-43c7-b466-b801fb60c2f0",
   "metadata": {},
   "outputs": [
    {
     "name": "stdout",
     "output_type": "stream",
     "text": [
      "unsupported operand type(s) for +: 'int' and 'str'\n"
     ]
    }
   ],
   "source": [
    "simple_add(7, \"a\")"
   ]
  },
  {
   "cell_type": "markdown",
   "id": "0c60910d",
   "metadata": {},
   "source": [
    "## Numpy module\n",
    "Numpy is a Python module used for working with arrays. Numpy provides array object that is faster than Python lists. This is due to locality of reference. NumPy arrays are stored at one continuous place in memory unlike lists, so processes can access and manipulate them very efficiently. "
   ]
  },
  {
   "cell_type": "code",
   "execution_count": 37,
   "id": "82423681",
   "metadata": {},
   "outputs": [],
   "source": [
    "import numpy as np"
   ]
  },
  {
   "cell_type": "markdown",
   "id": "5c3a0a88",
   "metadata": {},
   "source": [
    "### Create Numpy array"
   ]
  },
  {
   "cell_type": "code",
   "execution_count": 38,
   "id": "25f37868",
   "metadata": {},
   "outputs": [
    {
     "name": "stdout",
     "output_type": "stream",
     "text": [
      "[1 2 3 4 5]\n",
      "<class 'numpy.ndarray'>\n",
      "(5,)\n",
      "int32\n"
     ]
    }
   ],
   "source": [
    "x = np.array([1, 2, 3, 4, 5])   # vector, 1D array\n",
    "print(x)\n",
    "print(type(x))\n",
    "print(x.shape)\n",
    "print(x.dtype)   # shift + tab --> get signature "
   ]
  },
  {
   "cell_type": "code",
   "execution_count": 39,
   "id": "2e71a0ee-785a-48dc-9c18-74148f4a1ff3",
   "metadata": {},
   "outputs": [],
   "source": [
    "b = np.arange(6, 11)"
   ]
  },
  {
   "cell_type": "markdown",
   "id": "58472cda",
   "metadata": {},
   "source": [
    "### Array indexing"
   ]
  },
  {
   "cell_type": "code",
   "execution_count": 40,
   "id": "84e2c63b",
   "metadata": {},
   "outputs": [
    {
     "name": "stdout",
     "output_type": "stream",
     "text": [
      "1\n",
      "5\n"
     ]
    }
   ],
   "source": [
    "# Lets access the first and last element of x\n",
    "print(x[0])\n",
    "print(x[-1])"
   ]
  },
  {
   "cell_type": "code",
   "execution_count": 41,
   "id": "6e6ddf91",
   "metadata": {},
   "outputs": [
    {
     "name": "stdout",
     "output_type": "stream",
     "text": [
      "[ 1  2  3  4  5  6  7  8  9 10]\n"
     ]
    }
   ],
   "source": [
    "x1 = np.array([6, 7, 8, 9, 10])\n",
    "x_long = np.concatenate((x, x1), axis=None)\n",
    "print(x_long)"
   ]
  },
  {
   "cell_type": "markdown",
   "id": "1980dfd2",
   "metadata": {},
   "source": [
    "A `numpy.ndarray` is a generic multidimensional container for homogeneous data, i.e. all the elements must be of the same data type. Every array has a **shape**, which is expressed as tuple, indicating the size of each dimension as well as a **dtype**, an object describing the data type of the array."
   ]
  },
  {
   "cell_type": "code",
   "execution_count": 42,
   "id": "9b152e47",
   "metadata": {},
   "outputs": [
    {
     "name": "stdout",
     "output_type": "stream",
     "text": [
      "The shape of variable x_long: (10,)\n",
      "int32\n"
     ]
    }
   ],
   "source": [
    "print(f\"The shape of variable x_long: {x_long.shape}\")\n",
    "print(x_long.dtype)"
   ]
  },
  {
   "cell_type": "markdown",
   "id": "a8c620e3",
   "metadata": {},
   "source": [
    "## Custom image using Numpy\n",
    "Now that you have some basic understanding of the data structure of digital image, lets try to create a custom image with the help of Numpy library. "
   ]
  },
  {
   "cell_type": "code",
   "execution_count": 43,
   "id": "331f3176",
   "metadata": {},
   "outputs": [],
   "source": [
    "import matplotlib.pyplot as plt"
   ]
  },
  {
   "cell_type": "code",
   "execution_count": 47,
   "id": "f696dbde",
   "metadata": {},
   "outputs": [
    {
     "data": {
      "image/png": "[encoded data removed]",
      "text/plain": [
       "<Figure size 640x480 with 1 Axes>"
      ]
     },
     "metadata": {},
     "output_type": "display_data"
    }
   ],
   "source": [
    "# Create a dark grayscale image (2D array)\n",
    "gray = np.zeros((200, 200), dtype=\"uint8\")   # unit8 bit depth spans from [0, 255]\n",
    "\n",
    "plt.imshow(gray, cmap = plt.cm.gray)\n",
    "plt.title(\"grayscale black image\")\n",
    "plt.xticks([]), plt.yticks([])\n",
    "plt.show()"
   ]
  },
  {
   "cell_type": "code",
   "execution_count": 48,
   "id": "866c2803",
   "metadata": {},
   "outputs": [
    {
     "data": {
      "image/png": "[encoded data removed]",
      "text/plain": [
       "<Figure size 640x480 with 1 Axes>"
      ]
     },
     "metadata": {},
     "output_type": "display_data"
    }
   ],
   "source": [
    "white = 255 * np.ones((200, 200))\n",
    "white = np.uint8(white)\n",
    "\n",
    "plt.imshow(white, cmap = plt.cm.gray, vmin=0, vmax=255)\n",
    "plt.title(\"grayscale white image\")\n",
    "plt.xticks([]), plt.yticks([])\n",
    "plt.show()"
   ]
  },
  {
   "cell_type": "code",
   "execution_count": 50,
   "id": "ca1c5716",
   "metadata": {},
   "outputs": [
    {
     "data": {
      "image/png": "[encoded data removed]",
      "text/plain": [
       "<Figure size 640x480 with 1 Axes>"
      ]
     },
     "metadata": {},
     "output_type": "display_data"
    }
   ],
   "source": [
    "# Next, lets create random color image (3D array)\n",
    "noise_color_img = np.random.randint(0, high=256, size = (100, 100, 3), dtype=np.uint8)\n",
    "\n",
    "plt.imshow(noise_color_img)\n",
    "plt.title(\"random noise color image\")\n",
    "plt.xticks([]), plt.yticks([])\n",
    "plt.show()"
   ]
  },
  {
   "attachments": {
    "5d4026b2-6b16-4515-8e03-3065096fa0e8.png": {
     "image/png": "[encoded data removed]"
    }
   },
   "cell_type": "markdown",
   "id": "7fe7b83f",
   "metadata": {},
   "source": [
    "## Exercises\n",
    "1. Find the range of values for each of the following data types:\n",
    "    * `uint8`\n",
    "    * `int8`\n",
    "    * `uint32`\n",
    "    * `int32`\n",
    "2. Try to write a simple custom function to determine whether a given integer is odd or even number.\n",
    "3. Write a simple example code to show that Numpy is more efficient in numerical computation of large arrays of data than equivalent Python list.\n",
    "4. Run the following codes:\n",
    "```python\n",
    "    # create a 1D array\n",
    "    my_arr = np.arange(10)\n",
    "    print(\"Initial my_arr: \", my_arr)\n",
    "    arr_slice = my_arr\n",
    "    print(\"Initial arr_slice: \", arr_slice)\n",
    "\n",
    "    # change the first element of arr_slice\n",
    "    arr_slice[0] = 55\n",
    "\n",
    "    print(\"my_arr: \", my_arr)\n",
    "    print(\"arr_slice: \", arr_slice)\n",
    "```\n",
    "What do you notice? Propose a way to reassign `arr_slice` with new value **without modifying** `my_arr`.\n",
    "\n",
    "5. Create an image as shown as the following with the help of Numpy and matplotlib modules. You can arbitrarily set the dimension of the image and white circular spot at the middle.\n",
    "\n",
    "![image.png](attachment:5d4026b2-6b16-4515-8e03-3065096fa0e8.png)"
   ]
  },
  {
   "cell_type": "markdown",
   "id": "de62c913-897e-4998-aaa7-8e130010cd1a",
   "metadata": {},
   "source": [
    "Q1. \n",
    "| Data type | Range |\n",
    "| --------- | ----- |\n",
    "| uint8     | 0 to 255 |\n",
    "| int8      | -128 to 127 |\n",
    "| uint32    | 0 to $2^{32}-1$ |\n",
    "| int32     | $-2^{31}$ to $2^{31}-1$ |"
   ]
  },
  {
   "cell_type": "code",
   "execution_count": null,
   "id": "6f89be87-c04e-4cb5-8bdf-909a271b0596",
   "metadata": {},
   "outputs": [],
   "source": [
    "# Q2. Try to write a simple custom function to determine whether a given integer is odd or even number.\n",
    "def odd_even(x):\n",
    "    \"\"\"Check whether x is an odd or even integer.\n",
    "    Argument: \n",
    "    ---\n",
    "    x: must be an integer\n",
    "\n",
    "    Returns:\n",
    "    ---\n",
    "    statement that states whether x is an odd or even integers\"\"\"\n",
    "    if isinstance(x, int):\n",
    "        if(x % 2 == 0) and (x != 0):\n",
    "            print(f'{x} is an even integer.')\n",
    "        elif x % 2 == 1:\n",
    "            print(f'{x} is an odd integer.')\n",
    "        elif x == 0:\n",
    "            print(f'{x} is neither odd or even.')\n",
    "    else:\n",
    "        print(f'{x} is not an integer.')\n",
    "\n",
    "odd_even(10)"
   ]
  },
  {
   "cell_type": "code",
   "execution_count": 3,
   "id": "16f26378-5826-4612-b4d1-d4e0445a7fa1",
   "metadata": {},
   "outputs": [
    {
     "name": "stdout",
     "output_type": "stream",
     "text": [
      "The Elapsed time for Numpy Array is 0.31\n",
      "The Elapsed time for Python list is 2.55\n"
     ]
    }
   ],
   "source": [
    "# Q3. Write a simple example code to show that Numpy is more efficient in numerical computation of large arrays of data than equivalent Python list.\n",
    "import time\n",
    "import numpy as np\n",
    "\n",
    "size = 10000000\n",
    "numpy_array1 = np.arange(size)\n",
    "numpy_array2 = np.arange(size)\n",
    "python_list1 = list(range(size))\n",
    "python_list2 = list(range(size))\n",
    "\n",
    "# computation time for numpy\n",
    "startTime = time.time()\n",
    "numpyTime = numpy_array1 + numpy_array2\n",
    "endTime = time.time()\n",
    "timeElapsed = endTime - startTime\n",
    "\n",
    "print(f\"The Elapsed time for Numpy Array is {timeElapsed:.2f}\")\n",
    "\n",
    "# computation time for python list\n",
    "startTime = time.time()\n",
    "listTime = python_list1 + python_list2\n",
    "endTime = time.time()\n",
    "timeElapsed = endTime - startTime\n",
    "print(f\"The Elapsed time for Python list is {timeElapsed:.2f}\")"
   ]
  },
  {
   "cell_type": "code",
   "execution_count": 4,
   "id": "1e676679-1bb9-4220-be0a-d16028073dde",
   "metadata": {},
   "outputs": [
    {
     "name": "stdout",
     "output_type": "stream",
     "text": [
      "Initial my_arr:  [0 1 2 3 4 5 6 7 8 9]\n",
      "Initial arr_slice:  [0 1 2 3 4 5 6 7 8 9]\n",
      "my_arr:  [55  1  2  3  4  5  6  7  8  9]\n",
      "arr_slice:  [55  1  2  3  4  5  6  7  8  9]\n"
     ]
    }
   ],
   "source": [
    "# Q4.\n",
    "# create a 1D array\n",
    "my_arr = np.arange(10)\n",
    "print(\"Initial my_arr: \", my_arr)\n",
    "arr_slice = my_arr\n",
    "print(\"Initial arr_slice: \", arr_slice)\n",
    "\n",
    "# change the first element of arr_slice\n",
    "arr_slice[0] = 55\n",
    "\n",
    "print(\"my_arr: \", my_arr)\n",
    "print(\"arr_slice: \", arr_slice)"
   ]
  },
  {
   "cell_type": "code",
   "execution_count": null,
   "id": "2b3297cd-02f1-4694-b90a-9b4def4c458a",
   "metadata": {},
   "outputs": [],
   "source": [
    "# Q5.\n",
    "import numpy as np\n",
    "import matplotlib.pyplot as plt\n",
    "black = np.zeros((200, 200), dtype = np.unit8)\n",
    "\n",
    "r = 50\n",
    "center = (100, 100)\n"
   ]
  }
 ],
 "metadata": {
  "kernelspec": {
   "display_name": "Python 3 (ipykernel)",
   "language": "python",
   "name": "python3"
  },
  "language_info": {
   "codemirror_mode": {
    "name": "ipython",
    "version": 3
   },
   "file_extension": ".py",
   "mimetype": "text/x-python",
   "name": "python",
   "nbconvert_exporter": "python",
   "pygments_lexer": "ipython3",
   "version": "3.10.5"
  }
 },
 "nbformat": 4,
 "nbformat_minor": 5
}
